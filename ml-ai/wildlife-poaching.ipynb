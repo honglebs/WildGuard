{
 "cells": [
  {
   "cell_type": "code",
   "execution_count": 20,
   "metadata": {},
   "outputs": [],
   "source": [
    "#importing all necessary libraries\n",
    "import numpy as np\n",
    "import pandas as pd\n",
    "import matplotlib.pyplot as plt\n",
    "import seaborn as  sns\n",
    "import torch as pt\n",
    "\n",
    "#load csv file\n",
    "file_path = 'C:\\\\Users\\\\aurel\\\\Downloads\\\\WildGuard\\\\ml-ai\\\\comptab_2018-01-29 16_00_comma_separated.csv'\n",
    "data = pd.read_csv(file_path, delimiter = ',')"
   ]
  },
  {
   "cell_type": "code",
   "execution_count": 21,
   "metadata": {},
   "outputs": [
    {
     "name": "stderr",
     "output_type": "stream",
     "text": [
      "C:\\Users\\aurel\\AppData\\Local\\Temp\\ipykernel_14712\\2261941329.py:10: SettingWithCopyWarning: \n",
      "A value is trying to be set on a copy of a slice from a DataFrame\n",
      "\n",
      "See the caveats in the documentation: https://pandas.pydata.org/pandas-docs/stable/user_guide/indexing.html#returning-a-view-versus-a-copy\n",
      "  data_selected.replace('-', np.nan, inplace=True)\n",
      "C:\\Users\\aurel\\AppData\\Local\\Temp\\ipykernel_14712\\2261941329.py:13: SettingWithCopyWarning: \n",
      "A value is trying to be set on a copy of a slice from a DataFrame\n",
      "\n",
      "See the caveats in the documentation: https://pandas.pydata.org/pandas-docs/stable/user_guide/indexing.html#returning-a-view-versus-a-copy\n",
      "  data_selected.fillna(method='ffill', inplace=True)\n"
     ]
    }
   ],
   "source": [
    "#Select relevant columns\n",
    "selected_columns = [\n",
    "    'Year', 'App.', 'Family', 'Genus', 'Importer', 'Exporter',\n",
    "    'Origin', 'Importer reported quantity', 'Exporter reported quantity',\n",
    "    'Term'\n",
    "]\n",
    "data_selected = data[selected_columns]\n",
    "\n",
    "#Data Cleaning\n",
    "data_selected.replace('-', np.nan, inplace=True)\n",
    "\n",
    "#Fill Missing Values\n",
    "data_selected.fillna(method='ffill', inplace=True)\n",
    "\n",
    "#Filter the data to keep only rows where 'Origin' is not NaN\n",
    "data_selected = data_selected.dropna(subset=['Origin'])"
   ]
  },
  {
   "cell_type": "code",
   "execution_count": 29,
   "metadata": {},
   "outputs": [
    {
     "name": "stdout",
     "output_type": "stream",
     "text": [
      "       Year App.        Family      Genus Importer Exporter Origin  \\\n",
      "1705   2016    I  Elephantidae     Dugong       NZ       FR     KE   \n",
      "1709   2016    I  Elephantidae     Dugong       NZ       HU     AO   \n",
      "1775   2016    I  Elephantidae     Dugong       US       NL     KE   \n",
      "1930   2016    I  Elephantidae  Loxodonta       AR       ZA     TZ   \n",
      "1931   2016    I  Elephantidae  Loxodonta       AR       ZA     TZ   \n",
      "...     ...  ...           ...        ...      ...      ...    ...   \n",
      "30060  2016   II  Elephantidae  Loxodonta       ZM       ZW     BW   \n",
      "30061  2016   II  Elephantidae  Loxodonta       ZM       ZW     BW   \n",
      "67007  2017    I  Elephantidae  Loxodonta       ZA       MW     ZA   \n",
      "67008  2017    I  Elephantidae  Loxodonta       ZA       MW     ZA   \n",
      "67009  2017    I  Elephantidae  Loxodonta       ZA       MW     ZA   \n",
      "\n",
      "       Importer reported quantity  Exporter reported quantity  \\\n",
      "1705                          1.0                         1.0   \n",
      "1709                          4.0                         1.0   \n",
      "1775                         15.0                         1.0   \n",
      "1930                          2.0                         5.0   \n",
      "1931                          2.0                         5.0   \n",
      "...                           ...                         ...   \n",
      "30060                         3.0                         1.0   \n",
      "30061                         3.0                       107.0   \n",
      "67007                        15.0                        34.8   \n",
      "67008                        15.0                        20.0   \n",
      "67009                        15.0                       120.0   \n",
      "\n",
      "                           Term  \n",
      "1705             ivory carvings  \n",
      "1709             ivory carvings  \n",
      "1775             ivory carvings  \n",
      "1930                   trophies  \n",
      "1931                      tusks  \n",
      "...                         ...  \n",
      "30060  leather products (large)  \n",
      "30061  leather products (small)  \n",
      "67007                 specimens  \n",
      "67008                 specimens  \n",
      "67009                 specimens  \n",
      "\n",
      "[501 rows x 10 columns]\n"
     ]
    }
   ],
   "source": [
    "#Country codes\n",
    "country_codes = [\n",
    "    'DZ', 'AO', 'BJ', 'BW', 'BF', 'BI',\n",
    "    'CV', 'CM', 'CF', 'TD', 'KM',\n",
    "    'CG', 'CI', 'CD', 'DJ',\n",
    "    'EG', 'GQ', 'ER', 'SZ', 'ET', 'GA',\n",
    "    'GM', 'GH', 'GN', 'GW', 'KE', 'LS', 'LR',\n",
    "    'LY', 'MG', 'MW', 'ML', 'MR', 'MU',\n",
    "    'MA', 'MZ', 'NA', 'NE', 'NG', 'RW',\n",
    "    'ST', 'SN', 'SC', 'SL', 'SO',\n",
    "    'ZA', 'SS', 'SD', 'TZ', 'TG', 'TN',\n",
    "    'UG', 'ZM', 'ZW'\n",
    "]\n",
    "\n",
    "filtered_data = data_selected[data_selected['Origin'].isin(country_codes)]\n",
    "filtered_data = filtered_data[filtered_data['Family'].str.contains('Rhinoceros|Elephantidae', case=False, na=False)]\n",
    "#Print the filtered data\n",
    "print(filtered_data)"
   ]
  },
  {
   "cell_type": "code",
   "execution_count": 28,
   "metadata": {},
   "outputs": [
    {
     "name": "stdout",
     "output_type": "stream",
     "text": [
      "       Year App.        Family      Genus Importer Exporter Origin  \\\n",
      "1555   2016    I  Elephantidae     Dugong       AE       DK     XX   \n",
      "1556   2016    I  Elephantidae     Dugong       AE       FR     XX   \n",
      "1557   2016    I  Elephantidae     Dugong       AE       GB     XX   \n",
      "1558   2016    I  Elephantidae     Dugong       AR       CU     XX   \n",
      "1559   2016    I  Elephantidae     Dugong       AT       CH     XX   \n",
      "...     ...  ...           ...        ...      ...      ...    ...   \n",
      "30060  2016   II  Elephantidae  Loxodonta       ZM       ZW     BW   \n",
      "30061  2016   II  Elephantidae  Loxodonta       ZM       ZW     BW   \n",
      "67007  2017    I  Elephantidae  Loxodonta       ZA       MW     ZA   \n",
      "67008  2017    I  Elephantidae  Loxodonta       ZA       MW     ZA   \n",
      "67009  2017    I  Elephantidae  Loxodonta       ZA       MW     ZA   \n",
      "\n",
      "       Importer reported quantity  Exporter reported quantity  \\\n",
      "1555                          1.3                         1.0   \n",
      "1556                          1.3                         3.0   \n",
      "1557                          1.3                         1.0   \n",
      "1558                          1.3                       106.5   \n",
      "1559                          1.0                       106.5   \n",
      "...                           ...                         ...   \n",
      "30060                         3.0                         1.0   \n",
      "30061                         3.0                       107.0   \n",
      "67007                        15.0                        34.8   \n",
      "67008                        15.0                        20.0   \n",
      "67009                        15.0                       120.0   \n",
      "\n",
      "                           Term  \n",
      "1555                   carvings  \n",
      "1556             ivory carvings  \n",
      "1557             ivory carvings  \n",
      "1558             ivory carvings  \n",
      "1559               ivory pieces  \n",
      "...                         ...  \n",
      "30060  leather products (large)  \n",
      "30061  leather products (small)  \n",
      "67007                 specimens  \n",
      "67008                 specimens  \n",
      "67009                 specimens  \n",
      "\n",
      "[1225 rows x 10 columns]\n"
     ]
    }
   ],
   "source": [
    "#Filter data to show only rows where 'Family' contains 'Rhino' or 'Elephant'\n",
    "filtered_data = filtered_data[\n",
    "    filtered_data['Family'].str.contains('Rhinoceros|Elephantidae', case=False, na=False)\n",
    "]\n",
    "\n",
    "print(filtered_data)"
   ]
  }
 ],
 "metadata": {
  "kernelspec": {
   "display_name": "base",
   "language": "python",
   "name": "python3"
  },
  "language_info": {
   "codemirror_mode": {
    "name": "ipython",
    "version": 3
   },
   "file_extension": ".py",
   "mimetype": "text/x-python",
   "name": "python",
   "nbconvert_exporter": "python",
   "pygments_lexer": "ipython3",
   "version": "3.10.9"
  }
 },
 "nbformat": 4,
 "nbformat_minor": 2
}
