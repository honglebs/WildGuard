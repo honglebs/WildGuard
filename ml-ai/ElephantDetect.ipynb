{
 "cells": [
  {
   "cell_type": "code",
<<<<<<< HEAD
   "execution_count": 67,
   "metadata": {},
   "outputs": [],
   "source": [
    "import os\n",
    "import torch\n",
    "import cv2\n",
    "import numpy as np\n",
    "import matplotlib.pyplot as plt\n",
=======
   "execution_count": 1,
   "metadata": {},
   "outputs": [
    {
     "ename": "ModuleNotFoundError",
     "evalue": "No module named 'cv2'",
     "output_type": "error",
     "traceback": [
      "\u001b[0;31m---------------------------------------------------------------------------\u001b[0m",
      "\u001b[0;31mModuleNotFoundError\u001b[0m                       Traceback (most recent call last)",
      "Cell \u001b[0;32mIn[1], line 2\u001b[0m\n\u001b[1;32m      1\u001b[0m \u001b[38;5;28;01mimport\u001b[39;00m \u001b[38;5;21;01mos\u001b[39;00m\n\u001b[0;32m----> 2\u001b[0m \u001b[38;5;28;01mimport\u001b[39;00m \u001b[38;5;21;01mcv2\u001b[39;00m\n\u001b[1;32m      3\u001b[0m \u001b[38;5;28;01mimport\u001b[39;00m \u001b[38;5;21;01mnumpy\u001b[39;00m \u001b[38;5;28;01mas\u001b[39;00m \u001b[38;5;21;01mnp\u001b[39;00m\n\u001b[1;32m      4\u001b[0m \u001b[38;5;28;01mfrom\u001b[39;00m \u001b[38;5;21;01mtorch\u001b[39;00m\u001b[38;5;21;01m.\u001b[39;00m\u001b[38;5;21;01mutils\u001b[39;00m\u001b[38;5;21;01m.\u001b[39;00m\u001b[38;5;21;01mdata\u001b[39;00m \u001b[38;5;28;01mimport\u001b[39;00m Dataset, DataLoader\n",
      "\u001b[0;31mModuleNotFoundError\u001b[0m: No module named 'cv2'"
     ]
    }
   ],
   "source": [
    "import os\n",
    "import cv2\n",
    "import numpy as np\n",
>>>>>>> 5977f5a2cbf9f74392100ca1a3bbdbf40a5a1c36
    "from torch.utils.data import Dataset, DataLoader\n",
    "from torchvision import transforms\n",
    "\n",
    "class YoloDataset(Dataset):\n",
<<<<<<< HEAD
    "    def __init__(self, data_dir, transform=None):\n",
    "        self.data_dir = data_dir\n",
    "        self.images = [f for f in os.listdir(data_dir) if f.endswith('.jpg')]\n",
    "        self.transform = transform\n",
    "        \n",
    "    def __len__(self):\n",
    "        return len(self.images)\n",
    "    \n",
    "    def __getitem__(self, idx):\n",
    "        img_file = self.images[idx]\n",
    "        img_path = os.path.join(self.data_dir, img_file)\n",
    "        label_file = img_file.replace('.jpg', '.txt')\n",
    "        label_path = os.path.join(self.data_dir, label_file)\n",
    "        \n",
    "        # Load image\n",
    "        image = cv2.imread(img_path)\n",
    "        image = cv2.cvtColor(image, cv2.COLOR_BGR2RGB)\n",
    "        h, w, _ = image.shape\n",
    "        \n",
    "        # Load labels\n",
=======
    "    def init(self, imagesdir, labels_dir, transform=None):\n",
    "        self.images_dir = images_dir\n",
    "        self.labels_dir = labels_dir\n",
    "        self.images = os.listdir(images_dir)\n",
    "        self.transform = transform\n",
    "\n",
    "    def len(self):\n",
    "        return len(self.images)\n",
    "\n",
    "    def getitem(self, idx):\n",
    "        img_file = self.images[idx]\n",
    "        img_path = os.path.join(self.images_dir, img_file)\n",
    "        label_file = img_file.replace('.jpg', '.txt')\n",
    "        label_path = os.path.join(self.labels_dir, label_file)\n",
    "\n",
    "#Load image\n",
    "        image = cv2.imread(img_path)\n",
    "        image = cv2.cvtColor(image, cv2.COLOR_BGR2RGB)\n",
    "        h, w,  = image.shape\n",
    "\n",
    "#Load labels\n",
>>>>>>> 5977f5a2cbf9f74392100ca1a3bbdbf40a5a1c36
    "        boxes = []\n",
    "        with open(label_path, 'r') as f:\n",
    "            for line in f.readlines():\n",
    "                class_id, x_center, y_center, width, height = map(float, line.strip().split())\n",
    "                boxes.append([x_center, y_center, width, height, int(class_id)])\n",
    "        boxes = np.array(boxes)\n",
<<<<<<< HEAD
    "        \n",
    "        # Apply transformations\n",
=======
    "\n",
    "#Apply transformations\n",
>>>>>>> 5977f5a2cbf9f74392100ca1a3bbdbf40a5a1c36
    "        if self.transform:\n",
    "            transformed = self.transform(image=image, bboxes=boxes[:, :4], class_labels=boxes[:, 4])\n",
    "            image = transformed['image']\n",
    "            boxes = transformed['bboxes']\n",
    "            labels = transformed['class_labels']\n",
<<<<<<< HEAD
    "            \n",
    "            # Convert to tensor\n",
    "            targets = []\n",
    "            for bbox, label in zip(boxes, labels):\n",
    "                targets.append([label, *bbox])\n",
    "            targets = torch.tensor(targets, dtype=torch.float32)\n",
    "            \n",
    "            return image, targets\n",
    "        else:\n",
    "            return image, torch.tensor(boxes, dtype=torch.float32)\n"
   ]
  },
  {
   "cell_type": "code",
   "execution_count": 68,
   "metadata": {},
   "outputs": [],
   "source": [
    "def plot_image_with_boxes(image, targets):\n",
    "    #Convert tensor to numpy for plotting\n",
    "    image_np = image.permute(0, 1, 2).numpy()\n",
    "    image_np = (image_np * 255).astype(np.uint8)    #Convert to [0, 255] range if needed\n",
    "\n",
    "    plt.figure(figsize=(12, 8))\n",
    "    plt.imshow(image_np)\n",
    "    plt.axis('off')\n",
    "\n",
    "    #Convert targets tensor to numpy\n",
    "    targets_np = targets.numpy()\n",
    "\n",
    "    #Draw bounding boxes\n",
    "    for target in targets_np:\n",
    "        label, x_center, y_center, width, height = target\n",
    "        x_center *= image_np.shape[1]\n",
    "        y_center *= image_np.shape[0]\n",
    "        width *= image_np.shape[1]\n",
    "        height *= image_np.shape[0]\n",
    "\n",
    "        x1 = int(x_center - width/2)\n",
    "        y1 = int(y_center - height/2)\n",
    "        x2 = int(x_center + width/2)\n",
    "        y2 = int(y_center + height/2)\n",
    "\n",
    "        plt.gca().add_patch(plt.Rectangle((x1, y1), x2 - x1, y2 - y1, fill=False, edgecolor='red', linewidth=2))\n",
    "        plt.text(x1, y1, \"elephant\", color='red', fontsize=12, bbox=dict(facecolor='yellow', alpha = 0.5))\n",
    "\n",
    "    plt.show()"
   ]
  },
  {
   "cell_type": "code",
   "execution_count": 70,
   "metadata": {},
   "outputs": [
    {
     "name": "stderr",
     "output_type": "stream",
     "text": [
      "FigureCanvasAgg is non-interactive, and thus cannot be shown\n"
     ]
    }
   ],
   "source": [
    "import os\n",
    "from torch.utils.data import DataLoader\n",
    "\n",
    "#Define the base path for data\n",
    "base_data_path = r\"C:\\Users\\aurel\\Downloads\\WildGuard\\ml-ai\"\n",
    "\n",
    "#Define paths\n",
    "valid_data_path = os.path.join(base_data_path, 'valid')\n",
    "train_data_path = os.path.join(base_data_path, 'train')\n",
    "test_data_path = os.path.join(base_data_path, 'test')\n",
    "\n",
    "#Instantiate the dataset and data loader\n",
    "valid_dataset = YoloDataset(data_dir=valid_data_path, transform=None)\n",
    "valid_loader = DataLoader(dataset=valid_dataset, batch_size=1, shuffle=True)\n",
    "\n",
    "#Retrieve a sample from the data loader\n",
    "for images, targets in valid_loader:\n",
    "    #Assuming the data loader returns a batch of 1 image\n",
    "    image = images[0]\n",
    "    target = targets[0]\n",
    "\n",
    "    #Visualize the sample\n",
    "    plot_image_with_boxes(image, target)\n",
    "    break       #Exit after visualizing one sample"
   ]
  },
  {
   "cell_type": "code",
   "execution_count": 62,
   "metadata": {},
   "outputs": [],
   "source": [
    "import yaml\n",
    "from yolov5 import train\n",
    "\n",
    "#Create YAML config file for dataset\n",
    "data_yaml = dict(\n",
    "    train= r\"C:\\Users\\aurel\\Downloads\\WildGuard\\ml-ai\\train\",\n",
    "    val= r\"C:\\Users\\aurel\\Downloads\\WildGuard\\ml-ai\\valid\",\n",
    "    test= r\"C:\\Users\\aurel\\Downloads\\WildGuard\\ml-ai\\test\",\n",
    "    nc= 1, #number of classes\n",
    "    names= ['elephant']\n",
    ")\n",
    "\n",
    "with open(r\"C:\\Users\\aurel\\Downloads\\WildGuard\\ml-ai\\elephant_dataset.yaml\", 'w') as outfile:\n",
    "    yaml.dump(data_yaml, outfile, default_flow_style=False)\n",
    "    "
=======
    "\n",
    "#Convert to tensor\n",
    "            targets = []\n",
    "            for bbox, label in zip(boxes, labels):\n",
    "                targets.append([label, *bbox])\n",
    "            targets = torch.tensor(targets)\n",
    "\n",
    "            return image, targets\n",
    "        else:\n",
    "            return image, boxes"
>>>>>>> 5977f5a2cbf9f74392100ca1a3bbdbf40a5a1c36
   ]
  }
 ],
 "metadata": {
  "kernelspec": {
<<<<<<< HEAD
   "display_name": "base",
=======
   "display_name": "Python 3",
>>>>>>> 5977f5a2cbf9f74392100ca1a3bbdbf40a5a1c36
   "language": "python",
   "name": "python3"
  },
  "language_info": {
   "codemirror_mode": {
    "name": "ipython",
    "version": 3
   },
   "file_extension": ".py",
   "mimetype": "text/x-python",
   "name": "python",
   "nbconvert_exporter": "python",
   "pygments_lexer": "ipython3",
<<<<<<< HEAD
   "version": "3.10.14"
=======
   "version": "3.12.3"
>>>>>>> 5977f5a2cbf9f74392100ca1a3bbdbf40a5a1c36
  }
 },
 "nbformat": 4,
 "nbformat_minor": 2
}
