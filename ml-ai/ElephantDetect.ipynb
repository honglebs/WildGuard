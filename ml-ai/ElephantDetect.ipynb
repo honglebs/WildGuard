{
 "cells": [
  {
   "cell_type": "code",
   "execution_count": 1,
   "metadata": {},
   "outputs": [
    {
     "ename": "ModuleNotFoundError",
     "evalue": "No module named 'cv2'",
     "output_type": "error",
     "traceback": [
      "\u001b[0;31m---------------------------------------------------------------------------\u001b[0m",
      "\u001b[0;31mModuleNotFoundError\u001b[0m                       Traceback (most recent call last)",
      "Cell \u001b[0;32mIn[1], line 2\u001b[0m\n\u001b[1;32m      1\u001b[0m \u001b[38;5;28;01mimport\u001b[39;00m \u001b[38;5;21;01mos\u001b[39;00m\n\u001b[0;32m----> 2\u001b[0m \u001b[38;5;28;01mimport\u001b[39;00m \u001b[38;5;21;01mcv2\u001b[39;00m\n\u001b[1;32m      3\u001b[0m \u001b[38;5;28;01mimport\u001b[39;00m \u001b[38;5;21;01mnumpy\u001b[39;00m \u001b[38;5;28;01mas\u001b[39;00m \u001b[38;5;21;01mnp\u001b[39;00m\n\u001b[1;32m      4\u001b[0m \u001b[38;5;28;01mfrom\u001b[39;00m \u001b[38;5;21;01mtorch\u001b[39;00m\u001b[38;5;21;01m.\u001b[39;00m\u001b[38;5;21;01mutils\u001b[39;00m\u001b[38;5;21;01m.\u001b[39;00m\u001b[38;5;21;01mdata\u001b[39;00m \u001b[38;5;28;01mimport\u001b[39;00m Dataset, DataLoader\n",
      "\u001b[0;31mModuleNotFoundError\u001b[0m: No module named 'cv2'"
     ]
    }
   ],
   "source": [
    "import os\n",
    "import cv2\n",
    "import numpy as np\n",
    "from torch.utils.data import Dataset, DataLoader\n",
    "from torchvision import transforms\n",
    "\n",
    "class YoloDataset(Dataset):\n",
    "    def init(self, imagesdir, labels_dir, transform=None):\n",
    "        self.images_dir = images_dir\n",
    "        self.labels_dir = labels_dir\n",
    "        self.images = os.listdir(images_dir)\n",
    "        self.transform = transform\n",
    "\n",
    "    def len(self):\n",
    "        return len(self.images)\n",
    "\n",
    "    def getitem(self, idx):\n",
    "        img_file = self.images[idx]\n",
    "        img_path = os.path.join(self.images_dir, img_file)\n",
    "        label_file = img_file.replace('.jpg', '.txt')\n",
    "        label_path = os.path.join(self.labels_dir, label_file)\n",
    "\n",
    "#Load image\n",
    "        image = cv2.imread(img_path)\n",
    "        image = cv2.cvtColor(image, cv2.COLOR_BGR2RGB)\n",
    "        h, w,  = image.shape\n",
    "\n",
    "#Load labels\n",
    "        boxes = []\n",
    "        with open(label_path, 'r') as f:\n",
    "            for line in f.readlines():\n",
    "                class_id, x_center, y_center, width, height = map(float, line.strip().split())\n",
    "                boxes.append([x_center, y_center, width, height, int(class_id)])\n",
    "        boxes = np.array(boxes)\n",
    "\n",
    "#Apply transformations\n",
    "        if self.transform:\n",
    "            transformed = self.transform(image=image, bboxes=boxes[:, :4], class_labels=boxes[:, 4])\n",
    "            image = transformed['image']\n",
    "            boxes = transformed['bboxes']\n",
    "            labels = transformed['class_labels']\n",
    "\n",
    "#Convert to tensor\n",
    "            targets = []\n",
    "            for bbox, label in zip(boxes, labels):\n",
    "                targets.append([label, *bbox])\n",
    "            targets = torch.tensor(targets)\n",
    "\n",
    "            return image, targets\n",
    "        else:\n",
    "            return image, boxes"
   ]
  }
 ],
 "metadata": {
  "kernelspec": {
   "display_name": "Python 3",
   "language": "python",
   "name": "python3"
  },
  "language_info": {
   "codemirror_mode": {
    "name": "ipython",
    "version": 3
   },
   "file_extension": ".py",
   "mimetype": "text/x-python",
   "name": "python",
   "nbconvert_exporter": "python",
   "pygments_lexer": "ipython3",
   "version": "3.12.3"
  }
 },
 "nbformat": 4,
 "nbformat_minor": 2
}
